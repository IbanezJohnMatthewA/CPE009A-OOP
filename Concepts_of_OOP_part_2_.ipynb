{
  "nbformat": 4,
  "nbformat_minor": 0,
  "metadata": {
    "colab": {
      "provenance": [],
      "authorship_tag": "ABX9TyM2g5+CBgD3/uSxWNvxOPxB",
      "include_colab_link": true
    },
    "kernelspec": {
      "name": "python3",
      "display_name": "Python 3"
    },
    "language_info": {
      "name": "python"
    }
  },
  "cells": [
    {
      "cell_type": "markdown",
      "metadata": {
        "id": "view-in-github",
        "colab_type": "text"
      },
      "source": [
        "<a href=\"https://colab.research.google.com/github/IbanezJohnMatthewA/CPE009A-OOP/blob/main/Concepts_of_OOP_part_2_.ipynb\" target=\"_parent\"><img src=\"https://colab.research.google.com/assets/colab-badge.svg\" alt=\"Open In Colab\"/></a>"
      ]
    },
    {
      "cell_type": "code",
      "execution_count": 33,
      "metadata": {
        "colab": {
          "base_uri": "https://localhost:8080/"
        },
        "id": "7J9oOb6Faj2d",
        "outputId": "97865c36-fb97-4a8b-82d4-f74ca115a602"
      },
      "outputs": [
        {
          "output_type": "stream",
          "name": "stdout",
          "text": [
            "Griffon Vultureflies above clouds\n",
            "common Craneflies above clouds\n",
            "Emuflies above clouds\n"
          ]
        }
      ],
      "source": [
        "class Birds:\n",
        "  def __init__ (self,bird_name):\n",
        "    self.bird_name = bird_name\n",
        "  def flying_birds(self):\n",
        "    print(f\"{self.bird_name}flies above clouds\")\n",
        "  def non_flying_birds(self):\n",
        "    print(f\"{self.bird_name} is the national bird of Philippines\")\n",
        "\n",
        "vulture = Birds(\"Griffon Vulture\")\n",
        "crane = Birds(\"common Crane\")\n",
        "emu = Birds(\"Emu\")\n",
        "vulture.flying_birds()\n",
        "crane.flying_birds()\n",
        "emu.flying_birds()"
      ]
    },
    {
      "cell_type": "code",
      "source": [
        "class Counter:\n",
        "  def __init__(self):\n",
        "    self.current = 0\n",
        "\n",
        "  def increment(self):\n",
        "    self.current += 1\n",
        "\n",
        "  def value(self):\n",
        "    return self.current\n",
        "\n",
        "    def reset(self):\n",
        "      self.current = 0\n",
        "\n",
        "counter = Counter()\n",
        "\n",
        "\n",
        ""
      ],
      "metadata": {
        "id": "_1aOL6FxdBH-"
      },
      "execution_count": 10,
      "outputs": []
    },
    {
      "cell_type": "code",
      "source": [
        "class RegularPolygon:\n",
        "  def __init__(self,side):\n",
        "    self.side = side\n",
        "class Square(RegularPolygon): #intherits the properties of superclass RegularPolygon\n",
        "  def area(self): #defines the mehod/function to get the are of a square\n",
        "    return self.side*self.side\n",
        "class EquilateralTriangle(RegularPolygon):\n",
        "  def area(self): #defines the method/function to get the are of equilateral triangle\n",
        "    return self.side*self.side*0.433\n",
        "\n",
        "square = Square(4) #creates and object name square\n",
        "print(square.area()) #print the instance of the attribute of Square class\n",
        "equiltriangle = EquilateralTriangle(4) #creates and object name equitriangle\n",
        "print(equiltriangle.area()) #print the instance of the attribute of equilateraltriangle class\n"
      ],
      "metadata": {
        "colab": {
          "base_uri": "https://localhost:8080/"
        },
        "id": "_WCvmkxUfF85",
        "outputId": "fe83837f-d5ad-43df-b702-87fdc2490f7f"
      },
      "execution_count": 21,
      "outputs": [
        {
          "output_type": "stream",
          "name": "stdout",
          "text": [
            "16\n",
            "6.928\n"
          ]
        }
      ]
    },
    {
      "cell_type": "code",
      "source": [
        "class RegularPolygon:\n",
        "  def __init__(self,side):\n",
        "    self.__side = side\n",
        "  def area(self):\n",
        "    print(self. __side* self. __side)\n",
        "class Square(RegularPolygon):\n",
        "  pass\n",
        "\n",
        "square = Square(4)\n",
        "square.area()"
      ],
      "metadata": {
        "colab": {
          "base_uri": "https://localhost:8080/"
        },
        "id": "qX2fNt7kf8O9",
        "outputId": "5203be76-05f7-49f1-8c94-4435e4cb8989"
      },
      "execution_count": 35,
      "outputs": [
        {
          "output_type": "stream",
          "name": "stdout",
          "text": [
            "16\n"
          ]
        }
      ]
    },
    {
      "cell_type": "markdown",
      "source": [
        "Application 1"
      ],
      "metadata": {
        "id": "RlvNNn294y6Q"
      }
    },
    {
      "cell_type": "code",
      "source": [
        "class Person:\n",
        "  def __init__ (self,pre, mid, fin):\n",
        "    self. __pre = pre\n",
        "    self. __mid = mid\n",
        "    self. __fin = fin\n",
        "  def Grade(self):\n",
        "    return (self. __pre + self. __mid + self. __fin)/3\n",
        "class Std1 (Person):\n",
        "  pass\n",
        "class Std2(Person):\n",
        "  pass\n",
        "class Std3(Person):\n",
        "  pass\n",
        "\n",
        "\n",
        "Student1 = Std1(95, 87, 75)\n",
        "print(Student1.Grade())\n",
        "Student2 = Std2(89, 87, 100)\n",
        "print(Student2.Grade())\n",
        "Student3 = Std3(99, 91, 95)\n",
        "print(Student3.Grade())\n"
      ],
      "metadata": {
        "colab": {
          "base_uri": "https://localhost:8080/"
        },
        "id": "PU2D_Mg5vBah",
        "outputId": "6058b2a7-8815-449e-dbe1-a1f4fd0da40f"
      },
      "execution_count": 59,
      "outputs": [
        {
          "output_type": "stream",
          "name": "stdout",
          "text": [
            "85.66666666666667\n",
            "92.0\n",
            "95.0\n"
          ]
        }
      ]
    },
    {
      "cell_type": "code",
      "source": [],
      "metadata": {
        "id": "IQcZyusgzJId"
      },
      "execution_count": null,
      "outputs": []
    }
  ]
}