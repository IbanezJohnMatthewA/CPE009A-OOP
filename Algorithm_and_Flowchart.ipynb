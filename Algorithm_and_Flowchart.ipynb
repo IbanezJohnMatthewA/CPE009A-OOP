{
  "nbformat": 4,
  "nbformat_minor": 0,
  "metadata": {
    "colab": {
      "provenance": [],
      "authorship_tag": "ABX9TyOlT59+zeJ+5OLArB2ORESw",
      "include_colab_link": true
    },
    "kernelspec": {
      "name": "python3",
      "display_name": "Python 3"
    },
    "language_info": {
      "name": "python"
    }
  },
  "cells": [
    {
      "cell_type": "markdown",
      "metadata": {
        "id": "view-in-github",
        "colab_type": "text"
      },
      "source": [
        "<a href=\"https://colab.research.google.com/github/IbanezJohnMatthewA/CPE009A-OOP/blob/main/Algorithm_and_Flowchart.ipynb\" target=\"_parent\"><img src=\"https://colab.research.google.com/assets/colab-badge.svg\" alt=\"Open In Colab\"/></a>"
      ]
    },
    {
      "cell_type": "code",
      "execution_count": null,
      "metadata": {
        "id": "R0WYXKeFWdcB"
      },
      "outputs": [],
      "source": []
    },
    {
      "cell_type": "markdown",
      "source": [
        "1. Find the area and the perimeter\n",
        "2. Input width and height\n",
        "3. Multiply width and height to get the area\n",
        "4. Multiply by 2 the sum of width and height to get the perimeter"
      ],
      "metadata": {
        "id": "ZPJfwxcmWd87"
      }
    },
    {
      "cell_type": "code",
      "source": [
        "Width= float(input())\n",
        "Length= float(input())\n",
        "\n",
        "A= Width*Length\n",
        "print(A) #Computation for Area\n",
        "\n",
        "P= 2*(Width+Length)\n",
        "print(P) #Computation for Perimeter\n",
        "\n",
        "\n",
        "\n",
        "\n",
        "\n"
      ],
      "metadata": {
        "colab": {
          "base_uri": "https://localhost:8080/"
        },
        "id": "-U98xKpVWe8R",
        "outputId": "5de668d8-fc35-4a0d-c5d9-c3125b608302"
      },
      "execution_count": 37,
      "outputs": [
        {
          "output_type": "stream",
          "name": "stdout",
          "text": [
            "48\n",
            "65\n",
            "3120.0\n",
            "226.0\n"
          ]
        }
      ]
    },
    {
      "cell_type": "code",
      "source": [],
      "metadata": {
        "id": "UYtCs1VzdT0K"
      },
      "execution_count": null,
      "outputs": []
    }
  ]
}