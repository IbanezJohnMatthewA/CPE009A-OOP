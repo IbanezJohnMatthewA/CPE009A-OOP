{
  "nbformat": 4,
  "nbformat_minor": 0,
  "metadata": {
    "colab": {
      "provenance": [],
      "authorship_tag": "ABX9TyOH3MrPY3SAzq0qEc/5MVlS",
      "include_colab_link": true
    },
    "kernelspec": {
      "name": "python3",
      "display_name": "Python 3"
    },
    "language_info": {
      "name": "python"
    }
  },
  "cells": [
    {
      "cell_type": "markdown",
      "metadata": {
        "id": "view-in-github",
        "colab_type": "text"
      },
      "source": [
        "<a href=\"https://colab.research.google.com/github/IbanezJohnMatthewA/CPE009A-OOP/blob/main/Iba%C3%B1ez%2C_John_Matthew_Prelim_Exam.ipynb\" target=\"_parent\"><img src=\"https://colab.research.google.com/assets/colab-badge.svg\" alt=\"Open In Colab\"/></a>"
      ]
    },
    {
      "cell_type": "code",
      "source": [
        "fullname = input(\"Enter your fullname: \")\n",
        "age = input(\"Enter your age: \")\n",
        "print(\"fullname and age: \" +fullname +\" \" + \"and\"+ \" \"+ age)"
      ],
      "metadata": {
        "colab": {
          "base_uri": "https://localhost:8080/"
        },
        "id": "UX3hvx6yrJxz",
        "outputId": "d9e8f926-6daf-4f3d-f1ba-def6ec2cd633"
      },
      "execution_count": 22,
      "outputs": [
        {
          "output_type": "stream",
          "name": "stdout",
          "text": [
            "Enter your fullname: John Matthew Ibañez\n",
            "Enter your age: 19 years old\n",
            "fullname and age: John Matthew Ibañez and 19 years old\n"
          ]
        }
      ]
    },
    {
      "cell_type": "code",
      "source": [],
      "metadata": {
        "id": "o0aaFYObuKaT"
      },
      "execution_count": null,
      "outputs": []
    }
  ]
}