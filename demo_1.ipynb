{
  "nbformat": 4,
  "nbformat_minor": 0,
  "metadata": {
    "colab": {
      "provenance": [],
      "authorship_tag": "ABX9TyPCXPa2FthyKIFvoT/n/Gng",
      "include_colab_link": true
    },
    "kernelspec": {
      "name": "python3",
      "display_name": "Python 3"
    },
    "language_info": {
      "name": "python"
    }
  },
  "cells": [
    {
      "cell_type": "markdown",
      "metadata": {
        "id": "view-in-github",
        "colab_type": "text"
      },
      "source": [
        "<a href=\"https://colab.research.google.com/github/IbanezJohnMatthewA/CPE009A-OOP/blob/main/demo_1.ipynb\" target=\"_parent\"><img src=\"https://colab.research.google.com/assets/colab-badge.svg\" alt=\"Open In Colab\"/></a>"
      ]
    },
    {
      "cell_type": "markdown",
      "source": [
        "Python Indentation"
      ],
      "metadata": {
        "id": "jPyURUfQH_Mo"
      }
    },
    {
      "cell_type": "code",
      "execution_count": null,
      "metadata": {
        "colab": {
          "base_uri": "https://localhost:8080/"
        },
        "id": "e10N-7KMHJe4",
        "outputId": "ae34a71a-6532-4250-e99b-c607816df27d"
      },
      "outputs": [
        {
          "output_type": "stream",
          "name": "stdout",
          "text": [
            "Five is greater than two\n"
          ]
        }
      ],
      "source": [
        "if 5 > 2:\n",
        "   print (\"Five is greater than two\")"
      ]
    },
    {
      "cell_type": "markdown",
      "source": [
        "Python Comments"
      ],
      "metadata": {
        "id": "kOACXjS9JvDc"
      }
    },
    {
      "cell_type": "code",
      "source": [
        "if 5 > 2:\n",
        "  print (\"Five is greater than two\") #comparison of numbers 5 and 2"
      ],
      "metadata": {
        "colab": {
          "base_uri": "https://localhost:8080/"
        },
        "id": "yZReHu4rJut2",
        "outputId": "f64e2287-4035-4a05-9ca2-be9cc3cdda0a"
      },
      "execution_count": null,
      "outputs": [
        {
          "output_type": "stream",
          "name": "stdout",
          "text": [
            "Five is greater than two\n"
          ]
        }
      ]
    },
    {
      "cell_type": "markdown",
      "source": [
        "Variable Naming Conventions"
      ],
      "metadata": {
        "id": "n_vTK3YiKu2G"
      }
    },
    {
      "cell_type": "markdown",
      "source": [
        "Python Variable"
      ],
      "metadata": {
        "id": "-zJZAvBqLeVG"
      }
    },
    {
      "cell_type": "code",
      "source": [
        "#This is a single variable with a value\n",
        "x = 1\n",
        "a, b = 0,-1\n",
        "a, b, c=0,-1,2\n",
        "\n",
        "print (a)\n",
        "print (b)\n",
        "print (c)\n",
        "print (x)\n",
        "b=\"JM\"\n",
        "\n",
        "print (b)\n",
        "\n"
      ],
      "metadata": {
        "colab": {
          "base_uri": "https://localhost:8080/"
        },
        "id": "tk6VdCuVLmDV",
        "outputId": "1de2ff03-db45-4bf4-e230-60371e23e5c4"
      },
      "execution_count": null,
      "outputs": [
        {
          "output_type": "stream",
          "name": "stdout",
          "text": [
            "0\n",
            "-1\n",
            "2\n",
            "1\n",
            "JM\n"
          ]
        }
      ]
    },
    {
      "cell_type": "markdown",
      "source": [
        "Casting"
      ],
      "metadata": {
        "id": "wkNgmI75Nc_U"
      }
    },
    {
      "cell_type": "code",
      "source": [
        "b=\"Sally\" #This is a type of string\n",
        "b=int(4)\n",
        "print(b)\n",
        "\n",
        "b=float(4)\n",
        "print(b)"
      ],
      "metadata": {
        "colab": {
          "base_uri": "https://localhost:8080/"
        },
        "id": "R_gn1DFCNfIF",
        "outputId": "9e4e7880-9901-4df4-8ec6-86eab2571182"
      },
      "execution_count": null,
      "outputs": [
        {
          "output_type": "stream",
          "name": "stdout",
          "text": [
            "4\n",
            "4.0\n"
          ]
        }
      ]
    },
    {
      "cell_type": "code",
      "source": [
        "x = 5\n",
        "y =\"John\"\n",
        "print(type(x))\n",
        "print(type(y))"
      ],
      "metadata": {
        "colab": {
          "base_uri": "https://localhost:8080/"
        },
        "id": "Yy8jr2PrN8MN",
        "outputId": "e73ca30c-ca45-4e4d-e180-36be7963deb4"
      },
      "execution_count": null,
      "outputs": [
        {
          "output_type": "stream",
          "name": "stdout",
          "text": [
            "<class 'int'>\n",
            "<class 'str'>\n"
          ]
        }
      ]
    },
    {
      "cell_type": "markdown",
      "source": [
        "Double Quotes or Single Quotes"
      ],
      "metadata": {
        "id": "C_Tn3gQXNzp1"
      }
    },
    {
      "cell_type": "code",
      "source": [
        "y=\"John\"\n",
        "print(y)\n",
        "y='John'\n",
        "print(y)"
      ],
      "metadata": {
        "colab": {
          "base_uri": "https://localhost:8080/"
        },
        "id": "cRI1sGbUPXNf",
        "outputId": "5335e949-0216-49f3-d6b1-2de63b190ae0"
      },
      "execution_count": null,
      "outputs": [
        {
          "output_type": "stream",
          "name": "stdout",
          "text": [
            "John\n",
            "John\n"
          ]
        }
      ]
    },
    {
      "cell_type": "markdown",
      "source": [
        "Case sensitive"
      ],
      "metadata": {
        "id": "VN6OdUdBP28T"
      }
    },
    {
      "cell_type": "code",
      "source": [
        "a = 4\n",
        "A = \"Sally\"\n",
        "#A will not overwrite a"
      ],
      "metadata": {
        "id": "hMtUzzdUPgxD"
      },
      "execution_count": null,
      "outputs": []
    },
    {
      "cell_type": "markdown",
      "source": [
        "Multiple Variables"
      ],
      "metadata": {
        "id": "3COSNFfwQLLT"
      }
    },
    {
      "cell_type": "code",
      "source": [
        "x,y,z =\"one\",\"two\",\"three\"\n",
        "print (x,y,z)"
      ],
      "metadata": {
        "colab": {
          "base_uri": "https://localhost:8080/"
        },
        "id": "Ve6OTaXXQM6U",
        "outputId": "b9535afc-83c2-4cb4-dfe7-51304e91e9b1"
      },
      "execution_count": null,
      "outputs": [
        {
          "output_type": "stream",
          "name": "stdout",
          "text": [
            "one two three\n"
          ]
        }
      ]
    },
    {
      "cell_type": "markdown",
      "source": [
        "One Value to Multiple Variables"
      ],
      "metadata": {
        "id": "eCo6vNw4QLJT"
      }
    },
    {
      "cell_type": "code",
      "source": [
        "x = y = z = \"four\"\n",
        "print(x)\n",
        "print(y)\n",
        "print(z)"
      ],
      "metadata": {
        "colab": {
          "base_uri": "https://localhost:8080/"
        },
        "id": "sj9Nxk4XP5ty",
        "outputId": "eeb17fdb-6c17-4100-afac-8a7df7bd4ba8"
      },
      "execution_count": null,
      "outputs": [
        {
          "output_type": "stream",
          "name": "stdout",
          "text": [
            "four\n",
            "four\n",
            "four\n"
          ]
        }
      ]
    },
    {
      "cell_type": "markdown",
      "source": [
        "Output Variables"
      ],
      "metadata": {
        "id": "qfQVb1e-RQ0q"
      }
    },
    {
      "cell_type": "code",
      "source": [
        "x = \"enjoying\"\n",
        "print(\"Python programming is \" + x)\n",
        "\n",
        "#Other way:\n",
        "x = \"Python is \"\n",
        "y = \"enjoying\"\n",
        "z= x + y\n",
        "print(z)"
      ],
      "metadata": {
        "colab": {
          "base_uri": "https://localhost:8080/"
        },
        "id": "2_FHv-wgRSyC",
        "outputId": "32e08f98-c93a-452b-9480-34181dd72e68"
      },
      "execution_count": null,
      "outputs": [
        {
          "output_type": "stream",
          "name": "stdout",
          "text": [
            "Python programming is enjoying\n",
            "Python is enjoying\n"
          ]
        }
      ]
    },
    {
      "cell_type": "markdown",
      "source": [
        "Arithmetic Operations\n",
        "   "
      ],
      "metadata": {
        "id": "o_L4QFX6R4vi"
      }
    },
    {
      "cell_type": "code",
      "source": [
        "x=5\n",
        "y=3\n",
        "print (x+y)\n",
        "\n",
        "x=5\n",
        "y=3\n",
        "sum=x+y\n",
        "sum"
      ],
      "metadata": {
        "colab": {
          "base_uri": "https://localhost:8080/"
        },
        "id": "pyetOA_aUuyJ",
        "outputId": "5a712fba-e72b-4017-b428-26c4138b5dbc"
      },
      "execution_count": 52,
      "outputs": [
        {
          "output_type": "stream",
          "name": "stdout",
          "text": [
            "8\n"
          ]
        },
        {
          "output_type": "execute_result",
          "data": {
            "text/plain": [
              "8"
            ]
          },
          "metadata": {},
          "execution_count": 52
        }
      ]
    },
    {
      "cell_type": "markdown",
      "source": [
        "Assignment Operators"
      ],
      "metadata": {
        "id": "-cUisBtEVyOo"
      }
    },
    {
      "cell_type": "code",
      "source": [
        "a,b,c=0,-1,6\n",
        "c%=3\n",
        "c"
      ],
      "metadata": {
        "colab": {
          "base_uri": "https://localhost:8080/"
        },
        "id": "o6cn2ZmhV1Tv",
        "outputId": "64d49057-dcbd-43f6-f5c3-51e086c447f2"
      },
      "execution_count": 53,
      "outputs": [
        {
          "output_type": "execute_result",
          "data": {
            "text/plain": [
              "0"
            ]
          },
          "metadata": {},
          "execution_count": 53
        }
      ]
    },
    {
      "cell_type": "markdown",
      "source": [
        "Comparison Operators"
      ],
      "metadata": {
        "id": "aXYT3s8yWiL4"
      }
    },
    {
      "cell_type": "code",
      "source": [
        "x=1\n",
        "y=1\n",
        "x==y"
      ],
      "metadata": {
        "colab": {
          "base_uri": "https://localhost:8080/"
        },
        "id": "QVzeMvqPWltn",
        "outputId": "3a4ba537-cba8-47d8-84ca-61673ec84695"
      },
      "execution_count": 54,
      "outputs": [
        {
          "output_type": "execute_result",
          "data": {
            "text/plain": [
              "True"
            ]
          },
          "metadata": {},
          "execution_count": 54
        }
      ]
    },
    {
      "cell_type": "markdown",
      "source": [
        "Logical Operators"
      ],
      "metadata": {
        "id": "4Jt7cFClW3-_"
      }
    },
    {
      "cell_type": "code",
      "source": [
        "x=1\n",
        "x<5 and x<10"
      ],
      "metadata": {
        "colab": {
          "base_uri": "https://localhost:8080/"
        },
        "id": "3pUX5rULWvN_",
        "outputId": "d7ee12d6-3538-4bce-f32c-73471956f672"
      },
      "execution_count": 59,
      "outputs": [
        {
          "output_type": "execute_result",
          "data": {
            "text/plain": [
              "True"
            ]
          },
          "metadata": {},
          "execution_count": 59
        }
      ]
    },
    {
      "cell_type": "markdown",
      "source": [
        "Identity Operators"
      ],
      "metadata": {
        "id": "mR7CygC3XXR3"
      }
    },
    {
      "cell_type": "code",
      "source": [
        "a,b,c=0,-1,5\n",
        "a is a"
      ],
      "metadata": {
        "colab": {
          "base_uri": "https://localhost:8080/"
        },
        "id": "vOb5__58W81J",
        "outputId": "3341fbc8-093a-4b59-c6eb-fb4750711c88"
      },
      "execution_count": 70,
      "outputs": [
        {
          "output_type": "execute_result",
          "data": {
            "text/plain": [
              "True"
            ]
          },
          "metadata": {},
          "execution_count": 70
        }
      ]
    },
    {
      "cell_type": "markdown",
      "source": [
        "Bitwise Operators"
      ],
      "metadata": {
        "id": "hbrjYgmFYFeP"
      }
    },
    {
      "cell_type": "code",
      "source": [],
      "metadata": {
        "id": "Js2JTCetXi1P"
      },
      "execution_count": null,
      "outputs": []
    }
  ]
}