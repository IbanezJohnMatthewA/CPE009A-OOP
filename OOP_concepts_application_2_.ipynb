{
  "nbformat": 4,
  "nbformat_minor": 0,
  "metadata": {
    "colab": {
      "provenance": [],
      "authorship_tag": "ABX9TyPf+hd0YnxkzzYHZRm8fVTw",
      "include_colab_link": true
    },
    "kernelspec": {
      "name": "python3",
      "display_name": "Python 3"
    },
    "language_info": {
      "name": "python"
    }
  },
  "cells": [
    {
      "cell_type": "markdown",
      "metadata": {
        "id": "view-in-github",
        "colab_type": "text"
      },
      "source": [
        "<a href=\"https://colab.research.google.com/github/IbanezJohnMatthewA/CPE009A-OOP/blob/main/OOP_concepts_application_2_.ipynb\" target=\"_parent\"><img src=\"https://colab.research.google.com/assets/colab-badge.svg\" alt=\"Open In Colab\"/></a>"
      ]
    },
    {
      "cell_type": "markdown",
      "source": [
        "Activity\n",
        "\n",
        "create a class name shapes (5 shapes)\n",
        "\n",
        "Attributes sides\n",
        "\n",
        "create a function/method taht displays the no. of sides of the shape\n",
        "\n",
        "Apply inheritance and encapsulation"
      ],
      "metadata": {
        "id": "nWHkdVSOrmp-"
      }
    },
    {
      "cell_type": "code",
      "source": [
        "class Shapes:\n",
        "  def __init__ (self,side):\n",
        "    self. __sides\n",
        "class square(Shapes):\n",
        "  pass\n",
        "class triangle(Shapes):\n",
        "  pass\n",
        "class rectangle(Shapes):\n",
        "  pass\n",
        "class hexagon(Shapes):\n",
        "  pass\n",
        "class pentagon(Shapes):\n",
        "  pass\n",
        "\n",
        "Shapes1 = square\n",
        "print(\"the sides of square is 4\")\n",
        "Shapes2 = triangle\n",
        "print(\"the sides of triangle is 3\")\n",
        "Shapes3 = rectangle\n",
        "print(\"the sides of rectangle is 4\")\n",
        "Shapes4 = hexagon\n",
        "print(\"the sides of hexagon is 6\")\n",
        "Shapes5 = pentagon\n",
        "print(\"the sides of pentagon is 5\")"
      ],
      "metadata": {
        "colab": {
          "base_uri": "https://localhost:8080/"
        },
        "id": "eu8Kg6bqq3mg",
        "outputId": "bf09017b-25f9-4165-98fb-7dc117c524c1"
      },
      "execution_count": 25,
      "outputs": [
        {
          "output_type": "stream",
          "name": "stdout",
          "text": [
            "the sides of square is 4\n",
            "the sides of triangle is 3\n",
            "the sides of rectangle is 4\n",
            "the sides of hexagon is 6\n",
            "the sides of pentagon is 5\n"
          ]
        }
      ]
    },
    {
      "cell_type": "code",
      "source": [],
      "metadata": {
        "id": "7Nq50Jtc1Q_D"
      },
      "execution_count": null,
      "outputs": []
    }
  ]
}