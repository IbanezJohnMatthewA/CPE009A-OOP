{
  "nbformat": 4,
  "nbformat_minor": 0,
  "metadata": {
    "colab": {
      "provenance": [],
      "authorship_tag": "ABX9TyNEZT/Qp9Fi65sZTQPWWvoF",
      "include_colab_link": true
    },
    "kernelspec": {
      "name": "python3",
      "display_name": "Python 3"
    },
    "language_info": {
      "name": "python"
    }
  },
  "cells": [
    {
      "cell_type": "markdown",
      "metadata": {
        "id": "view-in-github",
        "colab_type": "text"
      },
      "source": [
        "<a href=\"https://colab.research.google.com/github/IbanezJohnMatthewA/CPE009A-OOP/blob/main/OOP_concepts_application_2_.ipynb\" target=\"_parent\"><img src=\"https://colab.research.google.com/assets/colab-badge.svg\" alt=\"Open In Colab\"/></a>"
      ]
    },
    {
      "cell_type": "markdown",
      "source": [
        "Activity\n",
        "\n",
        "create a class name shapes (5 shapes)\n",
        "\n",
        "Attributes sides\n",
        "\n",
        "create a function/method taht displays the no. of sides of the shape\n",
        "\n",
        "Apply inheritance and encapsulation"
      ],
      "metadata": {
        "id": "nWHkdVSOrmp-"
      }
    },
    {
      "cell_type": "code",
      "source": [
        "class Shapes:\n",
        "  def __init__ (self,side):\n",
        "    self. __sides\n",
        "class square(Shapes):\n",
        "  pass\n",
        "class triangle(Shapes):\n",
        "  pass\n",
        "class rectangle(Shapes):\n",
        "  pass\n",
        "class hexagon(Shapes):\n",
        "  pass\n",
        "class pentagon(Shapes):\n",
        "  pass\n",
        "\n",
        "square = (4)\n",
        "triangle.sides = (3)\n",
        "rectangle.sides = (4)\n",
        "hexagon.sides = (6)\n",
        "pentagon.sides = (5)\n",
        "\n",
        "Shapes1 = square\n",
        "print(\"the sides of this shape is 4\")\n",
        "Shapes2 = triangle\n",
        "print(\"the side of this shape is 3\")\n",
        "Shapes3 = rectangle\n",
        "print(\"the sides of this shape is 4\")\n",
        "Shapes4 = hexagon\n",
        "print(\"the sides of this shape is 6\")\n",
        "Shapes5 = pentagon\n",
        "print(\"the sides of this shape is 5\")"
      ],
      "metadata": {
        "colab": {
          "base_uri": "https://localhost:8080/"
        },
        "id": "eu8Kg6bqq3mg",
        "outputId": "50c041b8-5e2b-4bf8-d907-88fa57fadebb"
      },
      "execution_count": 22,
      "outputs": [
        {
          "output_type": "stream",
          "name": "stdout",
          "text": [
            "the sides of this shape is 4\n",
            "the side of this shape is 3\n",
            "the sides of this shape is 4\n",
            "the sides of this shape is 6\n",
            "the sides of this shape is 5\n"
          ]
        }
      ]
    }
  ]
}