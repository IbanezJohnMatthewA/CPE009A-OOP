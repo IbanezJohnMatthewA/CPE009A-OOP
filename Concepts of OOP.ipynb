{
  "nbformat": 4,
  "nbformat_minor": 0,
  "metadata": {
    "colab": {
      "provenance": [],
      "authorship_tag": "ABX9TyM543alALjEQ9g5fAAktsUP",
      "include_colab_link": true
    },
    "kernelspec": {
      "name": "python3",
      "display_name": "Python 3"
    },
    "language_info": {
      "name": "python"
    }
  },
  "cells": [
    {
      "cell_type": "markdown",
      "metadata": {
        "id": "view-in-github",
        "colab_type": "text"
      },
      "source": [
        "<a href=\"https://colab.research.google.com/github/IbanezJohnMatthewA/CPE009A-OOP/blob/main/Concepts%20of%20OOP.ipynb\" target=\"_parent\"><img src=\"https://colab.research.google.com/assets/colab-badge.svg\" alt=\"Open In Colab\"/></a>"
      ]
    },
    {
      "cell_type": "code",
      "execution_count": 9,
      "metadata": {
        "colab": {
          "base_uri": "https://localhost:8080/"
        },
        "id": "YGYTHPe2VZ-L",
        "outputId": "12ec3658-0fe4-4f90-bf93-fc199fb6e476"
      },
      "outputs": [
        {
          "output_type": "stream",
          "name": "stdout",
          "text": [
            "<__main__.Car object at 0x7ac36301bac0>\n"
          ]
        }
      ],
      "source": [
        "class Car:\n",
        "  pass\n",
        "\n",
        "obj1 = Car()\n",
        "print(obj1)\n",
        "\n"
      ]
    },
    {
      "cell_type": "code",
      "source": [
        "class Car:\n",
        "  def __init__(self,name,color,model,year):\n",
        "    self.name = name\n",
        "    self.color = color\n",
        "    self.model = model\n",
        "    self.year = year\n",
        "\n",
        "obj1 = Car(\"Honda Civic Vtec\", \"PearlGreen\",\"Vti\",\"1996\")\n",
        "print(obj1.name)\n",
        "print(obj1.color)\n",
        "print(obj1.model)\n",
        "print(obj1.year)\n"
      ],
      "metadata": {
        "colab": {
          "base_uri": "https://localhost:8080/"
        },
        "id": "cnIGT9DNiy0t",
        "outputId": "655aebe0-da07-43b5-d743-16cfa352337b"
      },
      "execution_count": 43,
      "outputs": [
        {
          "output_type": "stream",
          "name": "stdout",
          "text": [
            "Honda Civic Vtec\n",
            "PearlGreen\n",
            "Vti\n",
            "1996\n"
          ]
        }
      ]
    },
    {
      "cell_type": "markdown",
      "source": [
        "Application 1 - write a python program that prints your student information with the following attributes: Name, Age, Course, and Section. Use class name student()"
      ],
      "metadata": {
        "id": "EuWP5h-lmuA_"
      }
    },
    {
      "cell_type": "code",
      "source": [
        "class Student:\n",
        "  def __init__(self,name,age, course, section):\n",
        "    self.name = name\n",
        "    self.age = age\n",
        "    self.course = course\n",
        "    self.section = section\n",
        "\n",
        "obj1 = Student (\"John Matthew Ibañez\", \"19\", \"CPE009A-OOP\", \"CPE12S6\")\n",
        "print(obj1.name)\n",
        "print(obj1.age)\n",
        "print(obj1.course)\n",
        "print(obj1.section)"
      ],
      "metadata": {
        "colab": {
          "base_uri": "https://localhost:8080/"
        },
        "id": "OiH4zPRYnUtk",
        "outputId": "e69cd7d4-1363-4668-feff-73dc3e1a7d8f"
      },
      "execution_count": 41,
      "outputs": [
        {
          "output_type": "stream",
          "name": "stdout",
          "text": [
            "John Matthew Ibañez\n",
            "19\n",
            "CPE009A-OOP\n",
            "CPE12S6\n"
          ]
        }
      ]
    },
    {
      "cell_type": "code",
      "source": [],
      "metadata": {
        "id": "vHkI9YIRpv6U"
      },
      "execution_count": null,
      "outputs": []
    }
  ]
}